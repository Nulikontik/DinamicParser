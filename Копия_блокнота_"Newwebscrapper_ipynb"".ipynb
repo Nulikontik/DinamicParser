{
  "nbformat": 4,
  "nbformat_minor": 0,
  "metadata": {
    "colab": {
      "provenance": [],
      "authorship_tag": "ABX9TyOoXGSbutipOuZB1LQdjJ5c",
      "include_colab_link": true
    },
    "kernelspec": {
      "name": "python3",
      "display_name": "Python 3"
    },
    "language_info": {
      "name": "python"
    }
  },
  "cells": [
    {
      "cell_type": "markdown",
      "metadata": {
        "id": "view-in-github",
        "colab_type": "text"
      },
      "source": [
        "<a href=\"https://colab.research.google.com/github/Nulikontik/DinamicParser/blob/master/%D0%9A%D0%BE%D0%BF%D0%B8%D1%8F_%D0%B1%D0%BB%D0%BE%D0%BA%D0%BD%D0%BE%D1%82%D0%B0_%22Newwebscrapper_ipynb%22%22.ipynb\" target=\"_parent\"><img src=\"https://colab.research.google.com/assets/colab-badge.svg\" alt=\"Open In Colab\"/></a>"
      ]
    },
    {
      "cell_type": "code",
      "source": [
        "!pip3 install bs4"
      ],
      "metadata": {
        "colab": {
          "base_uri": "https://localhost:8080/"
        },
        "id": "oS6GglAcalDo",
        "outputId": "73bb8dc0-99f5-4324-a7fc-16634c891910"
      },
      "execution_count": 80,
      "outputs": [
        {
          "output_type": "stream",
          "name": "stdout",
          "text": [
            "Requirement already satisfied: bs4 in /usr/local/lib/python3.10/dist-packages (0.0.1)\n",
            "Requirement already satisfied: beautifulsoup4 in /usr/local/lib/python3.10/dist-packages (from bs4) (4.11.2)\n",
            "Requirement already satisfied: soupsieve>1.2 in /usr/local/lib/python3.10/dist-packages (from beautifulsoup4->bs4) (2.5)\n"
          ]
        }
      ]
    },
    {
      "cell_type": "code",
      "source": [
        "from bs4 import BeautifulSoup"
      ],
      "metadata": {
        "id": "c9syQEO3bFLn"
      },
      "execution_count": 81,
      "outputs": []
    },
    {
      "cell_type": "code",
      "source": [
        "import requests"
      ],
      "metadata": {
        "id": "Nz0LiJRZbvMa"
      },
      "execution_count": 82,
      "outputs": []
    },
    {
      "cell_type": "code",
      "source": [
        "\n",
        "\n",
        "nums = [1, 2, 3]\n",
        "\n",
        "def fn():\n",
        "    url = \"https://elitka.kg/object/index?query=&city%5B0%5D=2&finish_year=&object_class%5B0%5D=2&page=\"\n",
        "    newDatas = []\n",
        "    for i in range(len(nums)):\n",
        "        newDatas.append(url + str(nums[i]))\n",
        "    return newDatas\n",
        "\n",
        "newDatas = fn()\n",
        "datas = []\n",
        "\n",
        "for j in range(len(newDatas)):\n",
        "    response = requests.get(newDatas[j])\n",
        "    datas.append(response.text)\n",
        "\n",
        "for data in datas:\n",
        "    bs = BeautifulSoup(data, 'html.parser')\n",
        "\n",
        "    prices = bs.find_all('div', class_='obj-price')\n",
        "    addresses = bs.find_all('div', class_='obj-address')\n",
        "\n",
        "    if len(prices) == len(addresses):\n",
        "        for i in range(len(prices)):\n",
        "            price = prices[i].text\n",
        "            address = addresses[i].text\n",
        "            print(\"Price:\", price, \"Address:\", address)\n"
      ],
      "metadata": {
        "colab": {
          "base_uri": "https://localhost:8080/"
        },
        "id": "t09QKTYFbGyB",
        "outputId": "0a6f2c58-1604-4ab8-82c5-8167f8bda3ae"
      },
      "execution_count": 83,
      "outputs": [
        {
          "output_type": "stream",
          "name": "stdout",
          "text": [
            "Price: от $670(59 630 сом) за м² Address: Ош, мкрн. Анар 9\n",
            "Price: от $620(55 180 сом) за м² Address: Ош, ул.Авиценна 10\n",
            "Price: от $600(53 400 сом) за м² Address: Ош, ул. Артыкова дом 38\n",
            "Price: от $650(57 850 сом) за м² Address: Ош, ул. Мамырова 33 (Ноокатский подъём)\n",
            "Price: от $550(48 950 сом) за м² Address: г.Ош, ул. Касымбекова 8а/2\n",
            "Price: от $600(53 400 сом) за м² Address: Ош, мкр.Юго-Восток, ул.Касымова 309\n",
            "Price: от $500(44 500 сом) за м² Address: г. Ош ул. Кокум-Бий 102Г\n",
            "Price: от $500(44 500 сом) за м² Address: мкрн.Туран, ул.Мусы Джалиля, 2Б\n",
            "Price: от $650(57 850 сом) за м² Address: Ош, ул. Артыкова\n",
            "Price: от $500(44 500 сом) за м² Address: Ош, М. Алымбекова 15 \n",
            "Price: от $650(57 850 сом) за м² Address: Ош, ул.Абдыкадырова 167\n",
            "Price: от $700(62 300 сом) за м² Address: г.Ош, ул. Ленина 702\n",
            "Price: от $650(57 850 сом) за м² Address: Ош, ХБК ул.Салиева 20\n",
            "Price: от $0(0 сом) за м² Address: Ош, ул.Ленина, 938/1 стр\n",
            "Price: от $650(57 850 сом) за м² Address: Ош, ул. Курманжан Датка\n",
            "Price: от $500(44 500 сом) за м² Address: Ош мкр.Т.Кулатова 18Б\n",
            "Price: от $600(53 400 сом) за м² Address: Ош, ул.М. Алымбекова 17\n",
            "Price: от $540(48 060 сом) за м² Address: г. Ош, ул. Монуева 19\n",
            "Price: от $685(60 965 сом) за м² Address: г.Ош, ул.А.Шакирова\n",
            "Price: от $0(0 сом) за м² Address: г. Ош, Монуева / Тилеке баатыр\n",
            "Price: от $0(0 сом) за м² Address: г.Ош, ул. Авиценна, 11\n",
            "Price: от $500(44 500 сом) за м² Address: Ош, ул. ​Амир-Тимура, 77\n",
            "Price: от $0(0 сом) за м² Address: Ош, ул.Коргон-Добо 79 (Зайнабетинова)\n",
            "Price: от $530(47 170 сом) за м² Address: Ош, ул.Салиева (ор.школа Барпы)\n",
            "Price: от $650(57 850 сом) за м² Address: Ош, ул.Алиева \n",
            "Price: от $560(49 840 сом) за м² Address: Ош, ул. Ленина 172 (ГорГаз)\n",
            "Price: от $500(44 500 сом) за м² Address: Ош, ул. Салиева 24«А» и 20«Б»\n",
            "Price: от $680(60 520 сом) за м² Address: г.Ош, ул.Мияшева, (Таатан-ош)\n",
            "Price: от $0(0 сом) за м² Address: Ош, ул. Анар 1В\n",
            "Price: от $0(0 сом) за м² Address: Ош, ул.Толонова\n",
            "Price: от $0(0 сом) за м² Address: Ош, ул. Уркуи Салиевой\n",
            "Price: от $0(0 сом) за м² Address: ул.Ленина 185\n",
            "Price: от $0(0 сом) за м² Address: Ош, ул Маматсакова, 226\n",
            "Price: от $500(44 500 сом) за м² Address: Ош, мкр. Анар, Абдыкадырова 13а/2\n",
            "Price: от $0(0 сом) за м² Address: Ош, ул.Салиева 59\n",
            "Price: от $0(0 сом) за м² Address: Ош, ул.Ленина 202a\n",
            "Price: от $0(0 сом) за м² Address: Ош, ул. Шакирова 22\n",
            "Price: от $550(48 950 сом) за м² Address: Ош, пр.Ленина 349\n",
            "Price: от $0(0 сом) за м² Address: г.Ош, мкрн.Анар,17Б\n",
            "Price: от $550(48 950 сом) за м² Address: г.Ош, ул.Мамырова 88А\n",
            "Price: от $0(0 сом) за м² Address: Масалиева / Навои\n",
            "Price: от $580(51 620 сом) за м² Address: г.Ош ул.Монуева 136\n",
            "Price: от $0(0 сом) за м² Address: г.Ош, мкр.Анар\n",
            "Price: от $500(44 500 сом) за м² Address: г.Ош ул.Маматсакова 192\n",
            "Price: от $0(0 сом) за м² Address: ул.Хокимжон ажы, 115а - Салиева\n",
            "Price: от $0(0 сом) за м² Address: г.Ош ул.Ленина 139\n",
            "Price: от $500(44 500 сом) за м² Address: Ул. Салиева 40б/6\n",
            "Price: от $0(0 сом) за м² Address: Ош, улица Ленина 97\n",
            "Price: от $0(0 сом) за м² Address: Ош, ул.Мониева б/н(Школа Макаренко)\n",
            "Price: от $0(0 сом) за м² Address: ул.Урицского 15б(Школа ВЛКСМ)\n",
            "Price: от $600(53 400 сом) за м² Address: Ош, ул. Увамская 138/2\n",
            "Price: от $0(0 сом) за м² Address: г.Ош, ул.Салиева - Раззакова\n",
            "Price: от $0(0 сом) за м² Address: улица Шакирова 275\n"
          ]
        }
      ]
    }
  ]
}